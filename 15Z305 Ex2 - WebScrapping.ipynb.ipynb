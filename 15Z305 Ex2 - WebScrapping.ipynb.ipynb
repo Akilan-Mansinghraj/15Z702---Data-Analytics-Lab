{
 "cells": [
  {
   "cell_type": "markdown",
   "metadata": {},
   "source": [
    "Importing the libraries requests and beautiful soup\n",
    "Request library is used to fetch data from the repected website\n",
    "Beautiful soup library is used for parsing the data fetched from the website"
   ]
  },
  {
   "cell_type": "code",
   "execution_count": 17,
   "metadata": {},
   "outputs": [
    {
     "name": "stdout",
     "output_type": "stream",
     "text": [
      "Full time Faculty\n",
      "Dr Archana Krishnan\n",
      "DR ARUL RAJAN K\n",
      "DR Balasudarsun N L\n",
      "DR DEEPA R\n",
      "Mr Harish V \n",
      "DR JAGAJEEVAN R\n",
      "DR JOSHUA SELVAKUMAR J\n",
      "Mr Karthikeyan M S\n",
      "Mr KARTHIKEYAN L \n",
      "DR KAVITHA D\n",
      "Dr KRISHNAVENI R\n",
      "DR KRISHNAVENI MUTHIAH R\n",
      "Dr MANJU P GEORGE\n",
      "MR Manikandan S S\n",
      "DR MANSURALI A\n",
      "Ms Muthu Janaki\n",
      "Ms Rajeswari R\n",
      "DR RAMAN H\n",
      "Dr RAMKUMAR N\n",
      "DR SATHISH M\n",
      "DR SATHYANARAYANAN R S\n",
      "DR SEKKIZHAR J\n",
      " Dr Srigayathri Devi K\n",
      "Dr SRIVIDYA V\n",
      "DR SUJATHA R \n",
      "DR SUDHARANI RAVINDRAN D\n",
      "DR SWAMYNATHAN R\n",
      "DR THILAGAM V\n",
      "DR UMA MAHESWARI B\n",
      "DR UMESH CHANDRASEKHAR\n",
      "Dr VIJAYA T G\n",
      "DR VIVEK N\n",
      "The number of phd holders in psg im :  33\n"
     ]
    }
   ],
   "source": [
    "\n",
    "import requests\n",
    "from bs4 import BeautifulSoup\n",
    " \n",
    "def phdholders():   \n",
    "    url='http://psgim.ac.in/2017/01/full-time-faculty/'\n",
    "    resp=requests.get(url)\n",
    "   \n",
    "    if resp.status_code==200:\n",
    "        soup=BeautifulSoup(resp.text,'html.parser')    \n",
    "        l=soup.find(\"div\",{\"class\":\"wpb_wrapper\"})\n",
    "        \n",
    "        count=0\n",
    "        for i in l.findAll('h4'):\n",
    "            str=i.text\n",
    "            if \"Dr \" or \"DR\"  in str: \n",
    "                print(str)\n",
    "                count=count+1\n",
    "        print(\"The number of phd holders in psg im : \",count)        \n",
    "    else:\n",
    "        print(\"Error\")\n",
    "         \n",
    "phdholders()"
   ]
  },
  {
   "cell_type": "code",
   "execution_count": null,
   "metadata": {},
   "outputs": [],
   "source": []
  }
 ],
 "metadata": {
  "kernelspec": {
   "display_name": "Python 3",
   "language": "python",
   "name": "python3"
  },
  "language_info": {
   "codemirror_mode": {
    "name": "ipython",
    "version": 3
   },
   "file_extension": ".py",
   "mimetype": "text/x-python",
   "name": "python",
   "nbconvert_exporter": "python",
   "pygments_lexer": "ipython3",
   "version": "3.6.5"
  }
 },
 "nbformat": 4,
 "nbformat_minor": 2
}
