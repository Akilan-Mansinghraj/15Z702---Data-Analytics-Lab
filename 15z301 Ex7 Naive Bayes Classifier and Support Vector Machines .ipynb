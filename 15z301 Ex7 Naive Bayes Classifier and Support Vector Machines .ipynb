{
 "cells": [
  {
   "cell_type": "markdown",
   "metadata": {},
   "source": [
    "Naive bayes and svm for iris data set"
   ]
  },
  {
   "cell_type": "markdown",
   "metadata": {},
   "source": [
    "Import all required packages"
   ]
  },
  {
   "cell_type": "code",
   "execution_count": 48,
   "metadata": {},
   "outputs": [],
   "source": [
    "from sklearn import svm,datasets\n",
    "from sklearn.naive_bayes import GaussianNB\n",
    "from sklearn.model_selection import train_test_split\n",
    "from sklearn.metrics import confusion_matrix\n",
    "from sklearn.metrics import accuracy_score\n",
    "from sklearn import metrics\n",
    "from sklearn.metrics import precision_recall_curve\n",
    "import matplotlib.pyplot as plt\n",
    "import numpy as np"
   ]
  },
  {
   "cell_type": "markdown",
   "metadata": {},
   "source": [
    "Naive bayes classifier"
   ]
  },
  {
   "cell_type": "code",
   "execution_count": 49,
   "metadata": {},
   "outputs": [
    {
     "name": "stdout",
     "output_type": "stream",
     "text": [
      "Accuracy: 0.9666666666666667\n",
      "Confusion matrix: \n",
      "[[14  0  0]\n",
      " [ 0  8  1]\n",
      " [ 0  0  7]]\n",
      "Classification report: \n",
      "             precision    recall  f1-score   support\n",
      "\n",
      "          0       1.00      1.00      1.00        14\n",
      "          1       1.00      0.89      0.94         9\n",
      "          2       0.88      1.00      0.93         7\n",
      "\n",
      "avg / total       0.97      0.97      0.97        30\n",
      "\n"
     ]
    }
   ],
   "source": [
    "#load data set\n",
    "irisdataset = datasets.load_iris()\n",
    "\n",
    "X = irisdataset.data\n",
    "y = irisdataset.target\n",
    "\n",
    "#split inot training and testing data\n",
    "X_train, X_test, y_train, y_test = train_test_split(X, y, test_size = 0.20)  \n",
    "\n",
    "#fit using naive bayes\n",
    "gnb = GaussianNB()\n",
    "gnbfit =gnb.fit(X_train,y_train)\n",
    "predictions = gnbfit.predict(X_test)\n",
    "\n",
    "#accuracy and confusion matrix\n",
    "print(\"Accuracy: \"+str(accuracy_score(y_test, predictions)))\n",
    "print(\"Confusion matrix: \\n\"+str(confusion_matrix(y_test, predictions)))\n",
    "print(\"Classification report: \\n\"+str(metrics.classification_report(y_test,predictions)))"
   ]
  },
  {
   "cell_type": "markdown",
   "metadata": {},
   "source": [
    "Support vector machines"
   ]
  },
  {
   "cell_type": "markdown",
   "metadata": {},
   "source": [
    "Linear svc"
   ]
  },
  {
   "cell_type": "code",
   "execution_count": 50,
   "metadata": {},
   "outputs": [],
   "source": [
    "# Add noisy features\n",
    "random_state = np.random.RandomState(0)\n",
    "n_samples, n_features = X.shape\n",
    "X = np.c_[X, random_state.randn(n_samples, 100 * n_features)]"
   ]
  },
  {
   "cell_type": "code",
   "execution_count": 51,
   "metadata": {},
   "outputs": [
    {
     "name": "stdout",
     "output_type": "stream",
     "text": [
      "Accuracy: 0.9\n",
      "Confusion matrix: \n",
      "[[9 2]\n",
      " [0 9]]\n",
      "Classification report: \n",
      "             precision    recall  f1-score   support\n",
      "\n",
      "          0       1.00      0.82      0.90        11\n",
      "          1       0.82      1.00      0.90         9\n",
      "\n",
      "avg / total       0.92      0.90      0.90        20\n",
      "\n"
     ]
    }
   ],
   "source": [
    "#split int training and testing data\n",
    "X_train, X_test, y_train, y_test = train_test_split(X [y < 2], y [y < 2], test_size = 0.20) \n",
    "\n",
    "C=1.0\n",
    "#linear svc\n",
    "linearsvc=svm.SVC(kernel='linear')\n",
    "linearsvc.fit(X_train,y_train)\n",
    "svmpred=linearsvc.predict(X_test)\n",
    "#accuracy and confusion matrix\n",
    "print(\"Accuracy: \"+str(accuracy_score(y_test, svmpred)))  \n",
    "print(\"Confusion matrix: \\n\"+str(confusion_matrix(y_test, svmpred))) \n",
    "print(\"Classification report: \\n\"+str(metrics.classification_report(y_test,svmpred)))\n",
    "    \n"
   ]
  },
  {
   "cell_type": "markdown",
   "metadata": {},
   "source": [
    "precison-recall curve for linearsvc"
   ]
  },
  {
   "cell_type": "code",
   "execution_count": 52,
   "metadata": {},
   "outputs": [
    {
     "data": {
      "text/plain": [
       "Text(0,0.5,'Precision')"
      ]
     },
     "execution_count": 52,
     "metadata": {},
     "output_type": "execute_result"
    },
    {
     "data": {
      "image/png": "[encoded data removed]",
      "text/plain": [
       "<Figure size 432x288 with 1 Axes>"
      ]
     },
     "metadata": {},
     "output_type": "display_data"
    }
   ],
   "source": [
    "y_score = linearsvc.decision_function(X_test)\n",
    "precision, recall , _  = precision_recall_curve(y_test, y_score)\n",
    "plt.step(recall, precision, color='r')\n",
    "plt.xlabel('Recall')\n",
    "plt.ylabel('Precision')\n"
   ]
  },
  {
   "cell_type": "markdown",
   "metadata": {},
   "source": [
    "Polynomial kernel"
   ]
  },
  {
   "cell_type": "code",
   "execution_count": 53,
   "metadata": {},
   "outputs": [
    {
     "name": "stdout",
     "output_type": "stream",
     "text": [
      "Accuracy: 0.6\n",
      "Confusion matrix: \n",
      "[[11  0]\n",
      " [ 8  1]]\n",
      "Classification report: \n",
      "             precision    recall  f1-score   support\n",
      "\n",
      "          0       0.58      1.00      0.73        11\n",
      "          1       1.00      0.11      0.20         9\n",
      "\n",
      "avg / total       0.77      0.60      0.49        20\n",
      "\n"
     ]
    }
   ],
   "source": [
    "polysvc=svm.SVC(kernel='poly',random_state=27)\n",
    "polysvc.fit(X_train,y_train)\n",
    "svmpred=polysvc.predict(X_test)\n",
    "#accuracy and confusion matrix\n",
    "print(\"Accuracy: \"+str(accuracy_score(y_test, svmpred)))  \n",
    "print(\"Confusion matrix: \\n\"+str(confusion_matrix(y_test, svmpred))) \n",
    "print(\"Classification report: \\n\"+str(metrics.classification_report(y_test,svmpred)))"
   ]
  },
  {
   "cell_type": "markdown",
   "metadata": {},
   "source": [
    "Precision - recall curve for polynomial kernel"
   ]
  },
  {
   "cell_type": "code",
   "execution_count": 54,
   "metadata": {},
   "outputs": [
    {
     "data": {
      "text/plain": [
       "Text(0,0.5,'Precision')"
      ]
     },
     "execution_count": 54,
     "metadata": {},
     "output_type": "execute_result"
    },
    {
     "data": {
      "image/png": "[encoded data removed]",
      "text/plain": [
       "<Figure size 432x288 with 1 Axes>"
      ]
     },
     "metadata": {},
     "output_type": "display_data"
    }
   ],
   "source": [
    "y_score = polysvc.decision_function(X_test)\n",
    "precision, recall , _  = precision_recall_curve(y_test, y_score)\n",
    "plt.step(recall, precision, color='r')\n",
    "plt.xlabel('Recall')\n",
    "plt.ylabel('Precision')"
   ]
  },
  {
   "cell_type": "markdown",
   "metadata": {},
   "source": [
    "Radial Basis function as kernel"
   ]
  },
  {
   "cell_type": "code",
   "execution_count": 55,
   "metadata": {},
   "outputs": [
    {
     "name": "stdout",
     "output_type": "stream",
     "text": [
      "Accuracy: 0.9\n",
      "Confusion matrix: \n",
      "[[9 2]\n",
      " [0 9]]\n",
      "Classification report: \n",
      "             precision    recall  f1-score   support\n",
      "\n",
      "          0       1.00      0.82      0.90        11\n",
      "          1       0.82      1.00      0.90         9\n",
      "\n",
      "avg / total       0.92      0.90      0.90        20\n",
      "\n"
     ]
    }
   ],
   "source": [
    "rbfsvc=svm.SVC(kernel='rbf')\n",
    "rbfsvc.fit(X_train,y_train)\n",
    "svmpred=rbfsvc.predict(X_test)\n",
    "#accuracy and confusion matrix\n",
    "print(\"Accuracy: \"+str(accuracy_score(y_test, svmpred)))  \n",
    "print(\"Confusion matrix: \\n\"+str(confusion_matrix(y_test, svmpred))) \n",
    "print(\"Classification report: \\n\"+str(metrics.classification_report(y_test,svmpred)))"
   ]
  },
  {
   "cell_type": "markdown",
   "metadata": {},
   "source": [
    "Precision - recall curve for radial basis function as kernel"
   ]
  },
  {
   "cell_type": "code",
   "execution_count": 56,
   "metadata": {},
   "outputs": [
    {
     "data": {
      "text/plain": [
       "Text(0,0.5,'Precision')"
      ]
     },
     "execution_count": 56,
     "metadata": {},
     "output_type": "execute_result"
    },
    {
     "data": {
      "image/png": "[encoded data removed]",
      "text/plain": [
       "<Figure size 432x288 with 1 Axes>"
      ]
     },
     "metadata": {},
     "output_type": "display_data"
    }
   ],
   "source": [
    "y_score = rbfsvc.decision_function(X_test)\n",
    "precision, recall , _  = precision_recall_curve(y_test, y_score)\n",
    "plt.step(recall, precision, color='r')\n",
    "plt.xlabel('Recall')\n",
    "plt.ylabel('Precision')"
   ]
  }
 ],
 "metadata": {
  "kernelspec": {
   "display_name": "Python 3",
   "language": "python",
   "name": "python3"
  },
  "language_info": {
   "codemirror_mode": {
    "name": "ipython",
    "version": 3
   },
   "file_extension": ".py",
   "mimetype": "text/x-python",
   "name": "python",
   "nbconvert_exporter": "python",
   "pygments_lexer": "ipython3",
   "version": "3.6.5"
  }
 },
 "nbformat": 4,
 "nbformat_minor": 2
}
