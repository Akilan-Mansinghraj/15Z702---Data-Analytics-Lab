{
 "cells": [
  {
   "cell_type": "code",
   "execution_count": 1,
   "metadata": {},
   "outputs": [
    {
     "name": "stdout",
     "output_type": "stream",
     "text": [
      "Enter the number of values5\n",
      "Enter (x,y):\n",
      "X value = 1\n",
      "Y value = 1\n",
      "X value = 2\n",
      "Y value = 2\n",
      "X value = 3\n",
      "Y value = 4\n",
      "X value = 5\n",
      "Y value = 6\n",
      "X value = 7\n",
      "Y value = 7\n"
     ]
    }
   ],
   "source": [
    "value = int(input(\"Enter the number of values\"))\n",
    "points = []\n",
    "print(\"Enter (x,y):\")\n",
    "for i in range(value):\n",
    "    points.append([])\n",
    "    points[i].append(float(input(\"X value = \")))\n",
    "    points[i].append(float(input(\"Y value = \")))\n"
   ]
  },
  {
   "cell_type": "code",
   "execution_count": 3,
   "metadata": {},
   "outputs": [
    {
     "data": {
      "text/plain": [
       "[<matplotlib.lines.Line2D at 0x20dc2d8f0f0>]"
      ]
     },
     "execution_count": 3,
     "metadata": {},
     "output_type": "execute_result"
    },
    {
     "data": {
      "image/png": "[encoded data removed]",
      "text/plain": [
       "<Figure size 432x288 with 1 Axes>"
      ]
     },
     "metadata": {},
     "output_type": "display_data"
    }
   ],
   "source": [
    "import matplotlib.pyplot as plt\n",
    "plt.plot([group[0] for group in points], [group[1] for group in points], 'ro')\n"
   ]
  },
  {
   "cell_type": "code",
   "execution_count": 5,
   "metadata": {},
   "outputs": [
    {
     "name": "stdout",
     "output_type": "stream",
     "text": [
      "X Mean = 3.6\n",
      "Y Mean = 4.0\n"
     ]
    }
   ],
   "source": [
    "xMean = sum([group[0] for group in points])/value\n",
    "yMean = sum([group[1] for group in points])/value\n",
    "print(\"X Mean = \"+str(xMean))\n",
    "print(\"Y Mean = \"+str(yMean))\n"
   ]
  },
  {
   "cell_type": "code",
   "execution_count": 7,
   "metadata": {},
   "outputs": [
    {
     "name": "stdout",
     "output_type": "stream",
     "text": [
      "XY =  96.0\n"
     ]
    }
   ],
   "source": [
    "xy = 0\n",
    "for i in range(value):\n",
    "    xy = xy + points[i][0]*points[i][1]\n",
    "print('XY = ',xy)\n"
   ]
  },
  {
   "cell_type": "code",
   "execution_count": 10,
   "metadata": {},
   "outputs": [
    {
     "name": "stdout",
     "output_type": "stream",
     "text": [
      "y = 1.034x + 0.276\n"
     ]
    }
   ],
   "source": [
    "b = (xy - value*xMean*yMean)/((sum([group[0]**2 for group in points])) - value*(xMean**2))\n",
    "a = yMean - b*xMean\n",
    "print(\"y = \"+str(round(b,3))+\"x + \"+str(round(a,3)))\n"
   ]
  },
  {
   "cell_type": "code",
   "execution_count": 11,
   "metadata": {},
   "outputs": [
    {
     "data": {
      "text/plain": [
       "[<matplotlib.lines.Line2D at 0x20dc2e338d0>]"
      ]
     },
     "execution_count": 11,
     "metadata": {},
     "output_type": "execute_result"
    },
    {
     "data": {
      "image/png": "[encoded data removed]",
      "text/plain": [
       "<Figure size 432x288 with 1 Axes>"
      ]
     },
     "metadata": {},
     "output_type": "display_data"
    }
   ],
   "source": [
    "\n",
    "import numpy as np\n",
    "x = np.array([group[0] for group in points])\n",
    "y = np.array([group[1] for group in points])\n",
    "plt.plot(x, y, 'ro')\n",
    "plt.plot(x,a*x+b )\n"
   ]
  },
  {
   "cell_type": "code",
   "execution_count": null,
   "metadata": {},
   "outputs": [],
   "source": []
  }
 ],
 "metadata": {
  "kernelspec": {
   "display_name": "Python 3",
   "language": "python",
   "name": "python3"
  },
  "language_info": {
   "codemirror_mode": {
    "name": "ipython",
    "version": 3
   },
   "file_extension": ".py",
   "mimetype": "text/x-python",
   "name": "python",
   "nbconvert_exporter": "python",
   "pygments_lexer": "ipython3",
   "version": "3.6.5"
  }
 },
 "nbformat": 4,
 "nbformat_minor": 2
}
