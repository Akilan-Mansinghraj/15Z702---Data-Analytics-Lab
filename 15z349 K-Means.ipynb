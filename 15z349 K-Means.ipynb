{
 "cells": [
  {
   "cell_type": "code",
   "execution_count": 1,
   "metadata": {},
   "outputs": [],
   "source": [
    "#import the required packages\n",
    "import matplotlib.pyplot as plt\n",
    "import numpy as np\n",
    "#import sklearn packages\n",
    "from sklearn.datasets.samples_generator import make_blobs\n",
    "X, y_true = make_blobs(n_samples=400, centers=3,\n",
    "                       cluster_std=0.70, random_state=0)\n",
    "plt.scatter(X[:, 0], X[:, 1], s=70);\n",
    "#use k-means algorithm\n",
    "from sklearn.cluster import KMeans\n",
    "#fix the no of clusters\n",
    "kmeans = KMeans(n_clusters=3)\n",
    "#fitting the model\n",
    "kmeans.fit(X)\n",
    "#prediction\n",
    "y_kmeans = kmeans.predict(X)\n",
    "#plotting \n",
    "plt.scatter(X[:, 0], X[:, 1], c=y_kmeans, s=50, cmap='viridis')\n",
    "#cluster centers\n",
    "centers = kmeans.cluster_centers_\n",
    "plt.scatter(centers[:, 0], centers[:, 1], c='black', s=200, alpha=0.5);"
   ]
  },
  {
   "cell_type": "code",
   "execution_count": null,
   "metadata": {},
   "outputs": [],
   "source": []
  }
 ],
 "metadata": {
  "kernelspec": {
   "display_name": "Python 3",
   "language": "python",
   "name": "python3"
  },
  "language_info": {
   "codemirror_mode": {
    "name": "ipython",
    "version": 3
   },
   "file_extension": ".py",
   "mimetype": "text/x-python",
   "name": "python",
   "nbconvert_exporter": "python",
   "pygments_lexer": "ipython3",
   "version": "3.6.5"
  }
 },
 "nbformat": 4,
 "nbformat_minor": 2
}
