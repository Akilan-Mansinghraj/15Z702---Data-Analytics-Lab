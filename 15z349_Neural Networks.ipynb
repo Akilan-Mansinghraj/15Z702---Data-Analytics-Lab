{
 "cells": [
  {
   "cell_type": "code",
   "execution_count": 1,
   "metadata": {},
   "outputs": [
    {
     "name": "stdout",
     "output_type": "stream",
     "text": [
      "Iteration 1, loss = 9.67337337\n",
      "Iteration 2, loss = 2.63906040\n",
      "Iteration 3, loss = 2.90529266\n",
      "Iteration 4, loss = 3.01843325\n",
      "Iteration 5, loss = 3.05878374\n",
      "Training loss did not improve more than tol=0.000100 for two consecutive epochs. Stopping.\n"
     ]
    },
    {
     "data": {
      "text/plain": [
       "0.35469107551487417"
      ]
     },
     "execution_count": 1,
     "metadata": {},
     "output_type": "execute_result"
    }
   ],
   "source": [
    "#import the required packages\n",
    "import pandas as pd\n",
    "from sklearn.metrics import accuracy_score\n",
    "#reading the csv file\n",
    "data = pd.read_csv(\"C:/Users/umarm/Downloads/movie_metadata.csv\")\n",
    "data=data[['num_critic_for_reviews','director_facebook_likes','actor_1_facebook_likes','movie_facebook_likes','num_user_for_reviews','imdb_score']]\n",
    "#preprocessing\n",
    "data=data.dropna()\n",
    "data = data[data.movie_facebook_likes != 0]\n",
    "data = data[data.director_facebook_likes != 0.0]\n",
    "data = data[data.num_user_for_reviews != 0.0]\n",
    "data = data[data.num_critic_for_reviews != 0.0]\n",
    "data = data[data.actor_1_facebook_likes != 0.0]\n",
    "data = data[data.imdb_score != 0.0]\n",
    "#data and class labels\n",
    "x=data[['num_critic_for_reviews','director_facebook_likes','actor_1_facebook_likes','movie_facebook_likes','num_user_for_reviews']]\n",
    "y=data[['imdb_score']]\n",
    "y=y.round()\n",
    "#training and testing data\n",
    "from sklearn.model_selection import train_test_split\n",
    "x_train,x_test,y_train,y_test=train_test_split(x,y,test_size=0.20)\n",
    "#neural network\n",
    "from sklearn.neural_network import MLPClassifier  \n",
    "classifier = MLPClassifier(hidden_layer_sizes=(7, 6, 5), max_iter=1000, alpha=0.00001, solver='sgd', verbose=10 )  \n",
    "#fitting\n",
    "classifier.fit(x_train, y_train.values.ravel())\n",
    "#predictions\n",
    "y_pred = classifier.predict(x_test)\n",
    "accuracy_score(y_test,y_pred)"
   ]
  },
  {
   "cell_type": "code",
   "execution_count": null,
   "metadata": {},
   "outputs": [],
   "source": []
  }
 ],
 "metadata": {
  "kernelspec": {
   "display_name": "Python 3",
   "language": "python",
   "name": "python3"
  },
  "language_info": {
   "codemirror_mode": {
    "name": "ipython",
    "version": 3
   },
   "file_extension": ".py",
   "mimetype": "text/x-python",
   "name": "python",
   "nbconvert_exporter": "python",
   "pygments_lexer": "ipython3",
   "version": "3.6.5"
  }
 },
 "nbformat": 4,
 "nbformat_minor": 2
}
