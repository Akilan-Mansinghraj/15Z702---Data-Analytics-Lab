{
 "cells": [
  {
   "cell_type": "markdown",
   "metadata": {},
   "source": [
    "Using requests, get the PSG IM Faculty page"
   ]
  },
  {
   "cell_type": "code",
   "execution_count": 38,
   "metadata": {},
   "outputs": [],
   "source": [
    "import requests\n",
    "r  = requests.get(\"http://psgim.ac.in/2017/01/full-time-faculty/\")"
   ]
  },
  {
   "cell_type": "code",
   "execution_count": 39,
   "metadata": {},
   "outputs": [
    {
     "name": "stdout",
     "output_type": "stream",
     "text": [
      "1 Dr Archana Krishnan\n",
      "2 DR ARUL RAJAN K\n",
      "3 DR Balasudarsun N L\n",
      "4 DR DEEPA R\n",
      "5 Mr Harish V \n",
      "6 DR JAGAJEEVAN R\n",
      "7 DR JOSHUA SELVAKUMAR J\n",
      "8 Mr Karthikeyan M S\n",
      "9 Mr KARTHIKEYAN L \n",
      "10 DR KAVITHA D\n",
      "11 Dr KRISHNAVENI R\n",
      "12 DR KRISHNAVENI MUTHIAH R\n",
      "13 Dr MANJU P GEORGE\n",
      "14 MR Manikandan S S\n",
      "15 DR MANSURALI A\n",
      "16 Ms Rajeswari R\n",
      "17 DR RAMAN H\n",
      "18 Dr RAMKUMAR N\n",
      "19 DR SATHISH M\n",
      "20 DR SATHYANARAYANAN R S\n",
      "21 DR SEKKIZHAR J\n",
      "22  Dr Srigayathri Devi K\n",
      "23 Dr SRIVIDYA V\n",
      "24 DR SUJATHA R \n",
      "25 DR SUDHARANI RAVINDRAN D\n",
      "26 DR SWAMYNATHAN R\n",
      "27 DR THILAGAM V\n",
      "28 DR UMA MAHESWARI B\n",
      "29 DR UMESH CHANDRASEKHAR\n",
      "30 Dr VIJAYA T G\n",
      "31 DR VIVEK N\n"
     ]
    }
   ],
   "source": [
    "from bs4 import BeautifulSoup\n",
    "soup = BeautifulSoup(r.content, 'html.parser')\n",
    "faculty = soup.findAll('div',{\"class\":\"vc_column-inner\"})\n",
    "\n",
    "#Retrieve all faculty names and store in a list\n",
    "facultyName = []\n",
    "for i in range(len(faculty)):\n",
    "    if faculty[i].find('h4'):\n",
    "        facultyName.append(faculty[i].find('h4').text)\n",
    "\n",
    "#facultyName.remove('Ms Muthu Janaki') - This person does not have any qualification or designation, hence it was removed\n",
    "for i in range(len(facultyName)):\n",
    "    print(str(i+1)+\" \"+facultyName[i])"
   ]
  },
  {
   "cell_type": "code",
   "execution_count": 40,
   "metadata": {},
   "outputs": [
    {
     "name": "stdout",
     "output_type": "stream",
     "text": [
      "Faculty with Ph.D: \n",
      "0 Dr Archana Krishnan\n",
      "1 DR ARUL RAJAN K\n",
      "2 DR Balasudarsun N L\n",
      "3 DR DEEPA R\n",
      "4 Mr Harish V \n",
      "5 DR JAGAJEEVAN R\n",
      "6 DR JOSHUA SELVAKUMAR J\n",
      "9 DR KAVITHA D\n",
      "10 Dr KRISHNAVENI R\n",
      "11 DR KRISHNAVENI MUTHIAH R\n",
      "12 Dr MANJU P GEORGE\n",
      "14 DR MANSURALI A\n",
      "16 DR RAMAN H\n",
      "17 Dr RAMKUMAR N\n",
      "18 DR SATHISH M\n",
      "19 DR SATHYANARAYANAN R S\n",
      "20 DR SEKKIZHAR J\n",
      "21  Dr Srigayathri Devi K\n",
      "22 Dr SRIVIDYA V\n",
      "23 DR SUJATHA R \n",
      "24 DR SUDHARANI RAVINDRAN D\n",
      "25 DR SWAMYNATHAN R\n",
      "26 DR THILAGAM V\n",
      "27 DR UMA MAHESWARI B\n",
      "28 DR UMESH CHANDRASEKHAR\n",
      "29 Dr VIJAYA T G\n",
      "30 DR VIVEK N\n"
     ]
    }
   ],
   "source": [
    "#index variable to keep track of faculty names\n",
    "index = -1;\n",
    "\n",
    "#Finds all 'p' tag that has the class 'wpb_text_column'\n",
    "faculty = soup.findAll('div',{\"class\":\"wpb_text_column\"})\n",
    "\n",
    "print(\"Faculty with Ph.D: \")\n",
    "for i in range(len(faculty)):\n",
    "    if faculty[i].find('p'):\n",
    "        #if the text of 'p' tag has 'Qualification'\n",
    "        if faculty[i].find('p').text.find('Qualification')!=-1:\n",
    "            index=index+1\n",
    "            #if the qualification has 'Ph.D' or 'PhD'\n",
    "            if faculty[i].find('p').text.find('Ph.D')!=-1 or faculty[i].find('p').text.find('Ph.D.,')!=-1 or faculty[i].find('p').text.find('PhD')!=-1:\n",
    "                #print the faculty name from the list created above\n",
    "                print(str(index)+' '+facultyName[index])"
   ]
  }
 ],
 "metadata": {
  "kernelspec": {
   "display_name": "Python 3",
   "language": "python",
   "name": "python3"
  },
  "language_info": {
   "codemirror_mode": {
    "name": "ipython",
    "version": 3
   },
   "file_extension": ".py",
   "mimetype": "text/x-python",
   "name": "python",
   "nbconvert_exporter": "python",
   "pygments_lexer": "ipython3",
   "version": "3.7.0"
  }
 },
 "nbformat": 4,
 "nbformat_minor": 2
}
