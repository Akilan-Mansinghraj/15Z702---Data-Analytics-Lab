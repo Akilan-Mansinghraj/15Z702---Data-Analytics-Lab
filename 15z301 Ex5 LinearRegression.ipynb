{
 "cells": [
  {
   "cell_type": "markdown",
   "metadata": {},
   "source": [
    "Linear regression"
   ]
  },
  {
   "cell_type": "markdown",
   "metadata": {},
   "source": [
    "Input number and value of points"
   ]
  },
  {
   "cell_type": "code",
   "execution_count": 1,
   "metadata": {},
   "outputs": [
    {
     "name": "stdout",
     "output_type": "stream",
     "text": [
      "Enter the number of points5\n",
      "For point 1\n",
      "Enter x 1\n",
      "Enter y 1\n",
      "For point 2\n",
      "Enter x 2\n",
      "Enter y 2\n",
      "For point 3\n",
      "Enter x 3\n",
      "Enter y 1.3\n",
      "For point 4\n",
      "Enter x 4\n",
      "Enter y 3.75\n",
      "For point 5\n",
      "Enter x 5\n",
      "Enter y 2.25\n"
     ]
    }
   ],
   "source": [
    "num=input(\"Enter the number of points\")\n",
    "x = []\n",
    "y = []\n",
    "count = 0;\n",
    "for i in range(int(num)):\n",
    "    count = count + 1\n",
    "    print(\"For point \"+ str(count))\n",
    "    x.append(float(input(\"Enter x \")))\n",
    "    y.append(float(input(\"Enter y \")))"
   ]
  },
  {
   "cell_type": "markdown",
   "metadata": {},
   "source": [
    "Plot the points in graph"
   ]
  },
  {
   "cell_type": "code",
   "execution_count": 13,
   "metadata": {},
   "outputs": [
    {
     "data": {
      "text/plain": [
       "[<matplotlib.lines.Line2D at 0x228300fd9e8>]"
      ]
     },
     "execution_count": 13,
     "metadata": {},
     "output_type": "execute_result"
    },
    {
     "data": {
      "image/png": "[encoded data removed]",
      "text/plain": [
       "<Figure size 432x288 with 1 Axes>"
      ]
     },
     "metadata": {},
     "output_type": "display_data"
    }
   ],
   "source": [
    "import matplotlib.pyplot as plt\n",
    "plt.plot(x,y,'ro')"
   ]
  },
  {
   "cell_type": "markdown",
   "metadata": {},
   "source": [
    "Calculate mean"
   ]
  },
  {
   "cell_type": "code",
   "execution_count": 3,
   "metadata": {},
   "outputs": [
    {
     "name": "stdout",
     "output_type": "stream",
     "text": [
      "xmean 3.0\n",
      "ymean 2.06\n"
     ]
    }
   ],
   "source": [
    "import statistics\n",
    "xmean = statistics.mean (x)\n",
    "ymean = statistics.mean (y)\n",
    "print(\"xmean \" + str(xmean))\n",
    "print(\"ymean \" + str(ymean))"
   ]
  },
  {
   "cell_type": "markdown",
   "metadata": {},
   "source": [
    "Calculate alpha and beta (m,c)"
   ]
  },
  {
   "cell_type": "code",
   "execution_count": 16,
   "metadata": {},
   "outputs": [
    {
     "name": "stdout",
     "output_type": "stream",
     "text": [
      "Beta 0.42499999999999966\n",
      "Alpha  0.785000000000001\n",
      "Straight line y = 0.42499999999999966x+0.785000000000001\n"
     ]
    }
   ],
   "source": [
    "xy = 0;\n",
    "xsqrsum = 0;\n",
    "for i in range(int(num)):\n",
    "    xy = xy + (x[i]*y[i])\n",
    "    xsqrsum = xsqrsum + ( x[i] *  x[i] )\n",
    "beta =(xy - (int(num)*xmean*ymean))/(xsqrsum-(int(num)*(xmean*xmean)))\n",
    "print(\"Beta \" + str(beta))\n",
    "alpha = ymean - ( beta * xmean)\n",
    "print(\"Alpha  \" + str(alpha))\n",
    "print(\"Straight line y = \"+str(beta)+\"x+\"+str(alpha))"
   ]
  },
  {
   "cell_type": "markdown",
   "metadata": {},
   "source": [
    "Input x and plot the regression line"
   ]
  },
  {
   "cell_type": "code",
   "execution_count": 15,
   "metadata": {},
   "outputs": [
    {
     "name": "stdout",
     "output_type": "stream",
     "text": [
      "Points [1.2100000000000006, 1.6350000000000002, 2.06, 2.4849999999999994, 2.9099999999999993]\n",
      "Enter x 2.4\n",
      "OutputY 1.8050000000000002\n"
     ]
    },
    {
     "data": {
      "image/png": "[encoded data removed]",
      "text/plain": [
       "<Figure size 432x288 with 1 Axes>"
      ]
     },
     "metadata": {},
     "output_type": "display_data"
    }
   ],
   "source": [
    "yo = []\n",
    "for i in range(int(num)):\n",
    "    yo.append(beta*x[i]+alpha)\n",
    "print(\"Points \" + str(yo))\n",
    "import numpy as np\n",
    "plt.plot(np.array(x),beta*np.array(x)+alpha,'r')\n",
    "plt.plot(x,y,'ro')\n",
    "inputx = float(input(\"Enter x \"))\n",
    "outputy = beta*inputx+alpha\n",
    "print(\"OutputY \" + str(outputy) )"
   ]
  }
 ],
 "metadata": {
  "kernelspec": {
   "display_name": "Python 3",
   "language": "python",
   "name": "python3"
  },
  "language_info": {
   "codemirror_mode": {
    "name": "ipython",
    "version": 3
   },
   "file_extension": ".py",
   "mimetype": "text/x-python",
   "name": "python",
   "nbconvert_exporter": "python",
   "pygments_lexer": "ipython3",
   "version": "3.6.5"
  }
 },
 "nbformat": 4,
 "nbformat_minor": 2
}
