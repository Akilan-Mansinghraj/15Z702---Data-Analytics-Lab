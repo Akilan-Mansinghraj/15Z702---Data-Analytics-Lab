{
 "cells": [
  {
   "cell_type": "code",
   "execution_count": 4,
   "metadata": {},
   "outputs": [
    {
     "name": "stdout",
     "output_type": "stream",
     "text": [
      "https://images-na.ssl-images-amazon.com/images/M/MV5BMDU2ZWJlMjktMTRhMy00ZTA5LWEzNDgtYmNmZTEwZTViZWJkXkEyXkFqcGdeQXVyNDQ2OTk4MzI@._V1_UX182_CR0,0,182,268_AL_.jpg\n"
     ]
    }
   ],
   "source": [
    "import urllib.request\n",
    "import pandas as pd\n",
    "\n",
    "#Read the MovieGenre data set\n",
    "#Encoding is set as 'latin1' because UTF-8 (default encoding) throwed UnocodeDecodeError.\n",
    "df = pd.read_csv('MovieGenre.csv', encoding=\"latin1\")\n",
    "print(str(df['Poster'][0]))"
   ]
  },
  {
   "cell_type": "code",
   "execution_count": 2,
   "metadata": {},
   "outputs": [],
   "source": [
    "#We take only a sample (first hundred of the dataset)\n",
    "for i in range(100):\n",
    "    try:\n",
    "        #Download the image and save it as the IMDB ID\n",
    "        urllib.request.urlretrieve(str(df['Poster'][i]), str(df['imdbId'][i])+\".jpg\")\n",
    "    except:\n",
    "        #For the links that weren't available, it skips\n",
    "        pass"
   ]
  }
 ],
 "metadata": {
  "kernelspec": {
   "display_name": "Python 3",
   "language": "python",
   "name": "python3"
  },
  "language_info": {
   "codemirror_mode": {
    "name": "ipython",
    "version": 3
   },
   "file_extension": ".py",
   "mimetype": "text/x-python",
   "name": "python",
   "nbconvert_exporter": "python",
   "pygments_lexer": "ipython3",
   "version": "3.7.0"
  }
 },
 "nbformat": 4,
 "nbformat_minor": 2
}
