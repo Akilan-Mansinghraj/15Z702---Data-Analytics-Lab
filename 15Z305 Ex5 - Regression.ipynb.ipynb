{
 "cells": [
  {
   "cell_type": "markdown",
   "metadata": {},
   "source": [
    "Reading x and  y (co-ordinates) values from the user"
   ]
  },
  {
   "cell_type": "code",
   "execution_count": null,
   "metadata": {},
   "outputs": [],
   "source": [
    "n = int(input(\"Enter the no of values\"))\n",
    "points = []\n",
    "print(\"Enter X value followed by Y value (Co - ordinates)\")\n",
    "for i in range(n):\n",
    "    points.append([])\n",
    "    points[i].append(float(input(\"Xval = \")))\n",
    "    points[i].append(float(input(\"Yval = \")))"
   ]
  },
  {
   "cell_type": "markdown",
   "metadata": {},
   "source": [
    "Ploting the co ordinates"
   ]
  },
  {
   "cell_type": "code",
   "execution_count": 4,
   "metadata": {
    "scrolled": false
   },
   "outputs": [
    {
     "data": {
      "image/png": "[encoded data removed]",
      "text/plain": [
       "<Figure size 432x288 with 1 Axes>"
      ]
     },
     "metadata": {},
     "output_type": "display_data"
    }
   ],
   "source": [
    "import matplotlib.pyplot as plt\n",
    "plt.plot([group[0] for group in points], [group[1] for group in points], 'ro')\n",
    "plt.show()"
   ]
  },
  {
   "cell_type": "markdown",
   "metadata": {},
   "source": [
    "Find alpha and beta in y = (beta)x+(aplha)\n",
    "Formula:\n",
    "\n",
    "alpha = mean(y) - (beta) * mean(x)\n",
    "beta = covariance(x,y) / variance(x)\n",
    "1) Calculate mean of X and Y\n",
    "2) Calculate sum(x*y)"
   ]
  },
  {
   "cell_type": "code",
   "execution_count": 5,
   "metadata": {},
   "outputs": [
    {
     "name": "stdout",
     "output_type": "stream",
     "text": [
      "X Mean = 3.0\n",
      "Y Mean = 2.06\n",
      "XY =  35.15\n"
     ]
    }
   ],
   "source": [
    "xMean = sum([group[0] for group in points])/n\n",
    "yMean = sum([group[1] for group in points])/n\n",
    "print(\"X Mean = \"+str(xMean))\n",
    "print(\"Y Mean = \"+str(yMean))\n",
    "xy = 0\n",
    "for i in range(n):\n",
    "    xy = xy + points[i][0]*points[i][1]\n",
    "print('XY = ',xy)"
   ]
  },
  {
   "cell_type": "markdown",
   "metadata": {},
   "source": [
    "3) Compute alpha and beta and write the line formula"
   ]
  },
  {
   "cell_type": "code",
   "execution_count": 6,
   "metadata": {},
   "outputs": [
    {
     "name": "stdout",
     "output_type": "stream",
     "text": [
      "y = 0.425x + 0.785\n"
     ]
    }
   ],
   "source": [
    "beta = (xy - n*xMean*yMean)/((sum([group[0]**2 for group in points])) - n*(xMean**2))\n",
    "alpha = yMean - beta*xMean\n",
    "print(\"y = \"+str(round(beta,3))+\"x + \"+str(round(alpha,3)))"
   ]
  },
  {
   "cell_type": "markdown",
   "metadata": {},
   "source": [
    "Plot the line-of-best-fit alongside scatter plot"
   ]
  },
  {
   "cell_type": "code",
   "execution_count": 8,
   "metadata": {},
   "outputs": [
    {
     "data": {
      "text/plain": [
       "[<matplotlib.lines.Line2D at 0x23aca8c8ba8>]"
      ]
     },
     "execution_count": 8,
     "metadata": {},
     "output_type": "execute_result"
    },
    {
     "data": {
      "image/png": "[encoded data removed]",
      "text/plain": [
       "<Figure size 432x288 with 1 Axes>"
      ]
     },
     "metadata": {},
     "output_type": "display_data"
    }
   ],
   "source": [
    "import numpy as np\n",
    "x = np.array([group[0] for group in points])\n",
    "y = np.array([group[1] for group in points])\n",
    "plt.plot(x, y, 'ro')\n",
    "plt.plot(x,alpha*x+beta )"
   ]
  },
  {
   "cell_type": "code",
   "execution_count": null,
   "metadata": {},
   "outputs": [],
   "source": []
  },
  {
   "cell_type": "code",
   "execution_count": null,
   "metadata": {},
   "outputs": [],
   "source": []
  }
 ],
 "metadata": {
  "kernelspec": {
   "display_name": "Python 3",
   "language": "python",
   "name": "python3"
  },
  "language_info": {
   "codemirror_mode": {
    "name": "ipython",
    "version": 3
   },
   "file_extension": ".py",
   "mimetype": "text/x-python",
   "name": "python",
   "nbconvert_exporter": "python",
   "pygments_lexer": "ipython3",
   "version": "3.6.5"
  }
 },
 "nbformat": 4,
 "nbformat_minor": 2
}
